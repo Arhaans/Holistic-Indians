{
  "nbformat": 4,
  "nbformat_minor": 0,
  "metadata": {
    "colab": {
      "provenance": []
    },
    "kernelspec": {
      "name": "python3",
      "display_name": "Python 3"
    },
    "language_info": {
      "name": "python"
    }
  },
  "cells": [
    {
      "cell_type": "code",
      "execution_count": 6,
      "metadata": {
        "colab": {
          "base_uri": "https://localhost:8080/"
        },
        "id": "1OT0W3IrBfiq",
        "outputId": "a88644b7-861c-488f-8469-302c725a65e9"
      },
      "outputs": [
        {
          "output_type": "stream",
          "name": "stdout",
          "text": [
            "Filtered for privacy concerns:\n",
            "                                  text\n",
            "1  John and Smith went to Washington.\n",
            "Further filtered for names:\n",
            " Empty DataFrame\n",
            "Columns: [text]\n",
            "Index: []\n"
          ]
        }
      ],
      "source": [
        "import pandas as pd\n",
        "import numpy as np\n",
        "\n",
        "personal_indicators = ['bank account', 'address', 'id', 'email', 'pin', 'password', 'search history', 'years old', 'name']\n",
        "\n",
        "# Example DataFramee\n",
        "privacy_df = pd.DataFrame([{'text': 'My name is Vignesh Balaji and my bank account details are 12345678'},\n",
        "                           {'text': 'John and Smith went to Washington.'},\n",
        "                           {'text': 'She just turned 30 years old yesterday.'}]\n",
        "                                                                                )\n",
        "\n",
        "def check_privacy(text):\n",
        "    return any(indicator in text.lower() for indicator in personal_indicators)\n",
        "\n",
        "def privacy_filter(df):\n",
        "    return df[~df['text'].apply(check_privacy)]\n",
        "\n",
        "def check_names(text):\n",
        "    words = text.split()\n",
        "    return any((i > 0 and word[0].isupper()) or\n",
        "               (i < len(words) - 1 and word[0].isupper() and words[i + 1][0].isupper()) for i, word in enumerate(words))\n",
        "\n",
        "def name_filter(df):\n",
        "    return df[~df['text'].apply(check_names)]\n",
        "\n",
        "filtered_df = privacy_filter(privacy_df)\n",
        "print(\"Filtered for privacy concerns:\\n\", filtered_df)\n",
        "\n",
        "name_filtered_df = name_filter(filtered_df)\n",
        "print(\"Further filtered for names:\\n\", name_filtered_df)\n"
      ]
    },
    {
      "cell_type": "code",
      "source": [
        "with open('personal_info.txt', 'r', encoding='latin-1') as file:\n",
        "    words = file.readlines()\n",
        "\n",
        "words = [word.strip() for word in words]\n",
        "\n",
        "for word in words[:20]:\n",
        "    print(word)\n",
        "\n",
        "markers_list = ['Ethnicity', 'Race', 'Nation', 'Sex']"
      ],
      "metadata": {
        "colab": {
          "base_uri": "https://localhost:8080/"
        },
        "id": "gBinXsJoD1wc",
        "outputId": "1fc7bd4e-5e17-4322-b5d2-1bad50012caa"
      },
      "execution_count": 9,
      "outputs": [
        {
          "output_type": "stream",
          "name": "stdout",
          "text": [
            "Full Name\n",
            "Email address\n",
            "Home address\n",
            "Data of Birth\n",
            "Ethnicity / Race\n",
            "Gender\n",
            "National ID numbers / Social security number\n",
            "Passport number\n",
            "Visa permits number\n",
            "Driverâs license number\n",
            "Vehicle registration plate number\n",
            "Disability information\n",
            "Location information\n",
            "What you are doing when / status\n",
            "Events attended\n",
            "Status\n",
            "Sexual orientation\n",
            "Education and employment history\n",
            "Grades\n",
            "Salary\n"
          ]
        }
      ]
    },
    {
      "cell_type": "code",
      "source": [
        "import re\n",
        "\n",
        "def find_personal_info_numbers(text):\n",
        "    patterns = {\n",
        "        'SSN': r'\\b\\d{3}-\\d{2}-\\d{4}\\b',  # U.S. Social Security number\n",
        "        'Credit Card': r'\\b(?:\\d{4}[- ]){3}\\d{4}\\b',  # Credit card number\n",
        "        'Phone Number': r'\\b\\d{3}[-.\\s]?\\d{3}[-.\\s]?\\d{4}\\b',  #phone number format\n",
        "        'Generic Account Number': r'\\b\\d{8,12}\\b',  #bank account number\n",
        "        'Sort Code': r'\\b\\d{2}[-]\\d{2}[-]\\d{2}\\b', #Bank Sort Code\n",
        "        'PIN': r'\\b \\d{4} \\b'\n",
        "    }\n",
        "    found_items = {}\n",
        "\n",
        "    for key, pattern in patterns.items():\n",
        "        matches = re.findall(pattern, text)\n",
        "        if matches:\n",
        "            found_items[key] = matches\n",
        "\n",
        "    return found_items\n",
        "\n",
        "# Example usage\n",
        "example_text = \"Call me at 123-456-7890, my SSN is 123-45-6789. My credit card number is 1234 5678 9012 3456.\"\\\n",
        "                \"My Sort Code is 12-34-56.\"\n",
        "found_numbers = find_personal_info_numbers(example_text)\n",
        "print(found_numbers)"
      ],
      "metadata": {
        "colab": {
          "base_uri": "https://localhost:8080/"
        },
        "id": "gE3LpDh6MPdE",
        "outputId": "0d7d2864-85b6-4c04-bec2-81a6afebfaa4"
      },
      "execution_count": 9,
      "outputs": [
        {
          "output_type": "stream",
          "name": "stdout",
          "text": [
            "{'SSN': ['123-45-6789'], 'Credit Card': ['1234 5678 9012 3456'], 'Phone Number': ['123-456-7890'], 'Sort Code': ['12-34-56'], 'PIN': [' 1234 ', ' 9012 ']}\n"
          ]
        }
      ]
    },
    {
      "cell_type": "code",
      "source": [],
      "metadata": {
        "id": "xSCe1VgRP-IK"
      },
      "execution_count": null,
      "outputs": []
    }
  ]
}